{
 "cells": [
  {
   "cell_type": "code",
   "execution_count": 1,
   "id": "a6d1b054-491b-48a4-91f4-4f4acef626bc",
   "metadata": {},
   "outputs": [],
   "source": [
    "import pandas as pd"
   ]
  },
  {
   "cell_type": "code",
   "execution_count": 2,
   "id": "420a25ae-6ca1-4561-9a1e-b1a0013a5c09",
   "metadata": {},
   "outputs": [
    {
     "data": {
      "text/html": [
       "<div>\n",
       "<style scoped>\n",
       "    .dataframe tbody tr th:only-of-type {\n",
       "        vertical-align: middle;\n",
       "    }\n",
       "\n",
       "    .dataframe tbody tr th {\n",
       "        vertical-align: top;\n",
       "    }\n",
       "\n",
       "    .dataframe thead th {\n",
       "        text-align: right;\n",
       "    }\n",
       "</style>\n",
       "<table border=\"1\" class=\"dataframe\">\n",
       "  <thead>\n",
       "    <tr style=\"text-align: right;\">\n",
       "      <th></th>\n",
       "      <th>User_ID</th>\n",
       "      <th>Product_ID</th>\n",
       "      <th>Gender</th>\n",
       "      <th>Age</th>\n",
       "      <th>Occupation</th>\n",
       "      <th>City_Category</th>\n",
       "      <th>Stay_In_Current_City_Years</th>\n",
       "      <th>Marital_Status</th>\n",
       "      <th>Product_Category_1</th>\n",
       "      <th>Purchase</th>\n",
       "    </tr>\n",
       "  </thead>\n",
       "  <tbody>\n",
       "    <tr>\n",
       "      <th>0</th>\n",
       "      <td>1000001</td>\n",
       "      <td>P00069042</td>\n",
       "      <td>F</td>\n",
       "      <td>0-17</td>\n",
       "      <td>10</td>\n",
       "      <td>A</td>\n",
       "      <td>2</td>\n",
       "      <td>0</td>\n",
       "      <td>3</td>\n",
       "      <td>8370</td>\n",
       "    </tr>\n",
       "    <tr>\n",
       "      <th>1</th>\n",
       "      <td>1000001</td>\n",
       "      <td>P00248942</td>\n",
       "      <td>F</td>\n",
       "      <td>0-17</td>\n",
       "      <td>10</td>\n",
       "      <td>A</td>\n",
       "      <td>2</td>\n",
       "      <td>0</td>\n",
       "      <td>1</td>\n",
       "      <td>15200</td>\n",
       "    </tr>\n",
       "    <tr>\n",
       "      <th>2</th>\n",
       "      <td>1000001</td>\n",
       "      <td>P00087842</td>\n",
       "      <td>F</td>\n",
       "      <td>0-17</td>\n",
       "      <td>10</td>\n",
       "      <td>A</td>\n",
       "      <td>2</td>\n",
       "      <td>0</td>\n",
       "      <td>12</td>\n",
       "      <td>1422</td>\n",
       "    </tr>\n",
       "    <tr>\n",
       "      <th>3</th>\n",
       "      <td>1000001</td>\n",
       "      <td>P00085442</td>\n",
       "      <td>F</td>\n",
       "      <td>0-17</td>\n",
       "      <td>10</td>\n",
       "      <td>A</td>\n",
       "      <td>2</td>\n",
       "      <td>0</td>\n",
       "      <td>12</td>\n",
       "      <td>1057</td>\n",
       "    </tr>\n",
       "    <tr>\n",
       "      <th>4</th>\n",
       "      <td>1000002</td>\n",
       "      <td>P00285442</td>\n",
       "      <td>M</td>\n",
       "      <td>55+</td>\n",
       "      <td>16</td>\n",
       "      <td>C</td>\n",
       "      <td>4+</td>\n",
       "      <td>0</td>\n",
       "      <td>8</td>\n",
       "      <td>7969</td>\n",
       "    </tr>\n",
       "  </tbody>\n",
       "</table>\n",
       "</div>"
      ],
      "text/plain": [
       "   User_ID Product_ID Gender   Age  Occupation City_Category  \\\n",
       "0  1000001  P00069042      F  0-17          10             A   \n",
       "1  1000001  P00248942      F  0-17          10             A   \n",
       "2  1000001  P00087842      F  0-17          10             A   \n",
       "3  1000001  P00085442      F  0-17          10             A   \n",
       "4  1000002  P00285442      M   55+          16             C   \n",
       "\n",
       "  Stay_In_Current_City_Years  Marital_Status  Product_Category_1  Purchase  \n",
       "0                          2               0                   3      8370  \n",
       "1                          2               0                   1     15200  \n",
       "2                          2               0                  12      1422  \n",
       "3                          2               0                  12      1057  \n",
       "4                         4+               0                   8      7969  "
      ]
     },
     "execution_count": 2,
     "metadata": {},
     "output_type": "execute_result"
    }
   ],
   "source": [
    "df=pd.read_csv(\"C:\\\\Users\\\\Harpreet\\Desktop\\\\Jupyter_Files\\\\Black_Friday_Analysis\\\\BlackFriday.csv\")\n",
    "del df['Product_Category_2']\n",
    "del df['Product_Category_3']\n",
    "df.head()"
   ]
  },
  {
   "cell_type": "code",
   "execution_count": 3,
   "id": "6601ca7e-d054-4163-adf8-b9dd53ea6eae",
   "metadata": {},
   "outputs": [
    {
     "name": "stdout",
     "output_type": "stream",
     "text": [
      "5891 \t:  User_ID\n",
      "3623 \t:  Product_ID\n",
      "2 \t:  Gender\n",
      "7 \t:  Age\n",
      "21 \t:  Occupation\n",
      "3 \t:  City_Category\n",
      "5 \t:  Stay_In_Current_City_Years\n",
      "2 \t:  Marital_Status\n",
      "18 \t:  Product_Category_1\n",
      "17959 \t:  Purchase\n"
     ]
    }
   ],
   "source": [
    "for column in df.columns:\n",
    "    print(df[column].nunique(), \"\\t: \", column)\n"
   ]
  },
  {
   "cell_type": "code",
   "execution_count": 4,
   "id": "21797cd0-a6b7-48ca-82e0-341abe3ee89a",
   "metadata": {},
   "outputs": [
    {
     "data": {
      "text/plain": [
       "0         False\n",
       "1         False\n",
       "2         False\n",
       "3         False\n",
       "4          True\n",
       "          ...  \n",
       "537572     True\n",
       "537573     True\n",
       "537574     True\n",
       "537575     True\n",
       "537576     True\n",
       "Name: Gender, Length: 537577, dtype: bool"
      ]
     },
     "execution_count": 4,
     "metadata": {},
     "output_type": "execute_result"
    }
   ],
   "source": [
    "df['Gender']=='M'\n"
   ]
  },
  {
   "cell_type": "code",
   "execution_count": 5,
   "id": "1b8d652e-ba10-4693-ab3c-43cca445eed6",
   "metadata": {},
   "outputs": [
    {
     "data": {
      "text/html": [
       "<div>\n",
       "<style scoped>\n",
       "    .dataframe tbody tr th:only-of-type {\n",
       "        vertical-align: middle;\n",
       "    }\n",
       "\n",
       "    .dataframe tbody tr th {\n",
       "        vertical-align: top;\n",
       "    }\n",
       "\n",
       "    .dataframe thead th {\n",
       "        text-align: right;\n",
       "    }\n",
       "</style>\n",
       "<table border=\"1\" class=\"dataframe\">\n",
       "  <thead>\n",
       "    <tr style=\"text-align: right;\">\n",
       "      <th></th>\n",
       "      <th>User_ID</th>\n",
       "      <th>Product_ID</th>\n",
       "      <th>Gender</th>\n",
       "      <th>Age</th>\n",
       "      <th>Occupation</th>\n",
       "      <th>City_Category</th>\n",
       "      <th>Stay_In_Current_City_Years</th>\n",
       "      <th>Marital_Status</th>\n",
       "      <th>Product_Category_1</th>\n",
       "      <th>Purchase</th>\n",
       "    </tr>\n",
       "  </thead>\n",
       "  <tbody>\n",
       "    <tr>\n",
       "      <th>4</th>\n",
       "      <td>1000002</td>\n",
       "      <td>P00285442</td>\n",
       "      <td>M</td>\n",
       "      <td>55+</td>\n",
       "      <td>16</td>\n",
       "      <td>C</td>\n",
       "      <td>4+</td>\n",
       "      <td>0</td>\n",
       "      <td>8</td>\n",
       "      <td>7969</td>\n",
       "    </tr>\n",
       "    <tr>\n",
       "      <th>5</th>\n",
       "      <td>1000003</td>\n",
       "      <td>P00193542</td>\n",
       "      <td>M</td>\n",
       "      <td>26-35</td>\n",
       "      <td>15</td>\n",
       "      <td>A</td>\n",
       "      <td>3</td>\n",
       "      <td>0</td>\n",
       "      <td>1</td>\n",
       "      <td>15227</td>\n",
       "    </tr>\n",
       "    <tr>\n",
       "      <th>6</th>\n",
       "      <td>1000004</td>\n",
       "      <td>P00184942</td>\n",
       "      <td>M</td>\n",
       "      <td>46-50</td>\n",
       "      <td>7</td>\n",
       "      <td>B</td>\n",
       "      <td>2</td>\n",
       "      <td>1</td>\n",
       "      <td>1</td>\n",
       "      <td>19215</td>\n",
       "    </tr>\n",
       "    <tr>\n",
       "      <th>7</th>\n",
       "      <td>1000004</td>\n",
       "      <td>P00346142</td>\n",
       "      <td>M</td>\n",
       "      <td>46-50</td>\n",
       "      <td>7</td>\n",
       "      <td>B</td>\n",
       "      <td>2</td>\n",
       "      <td>1</td>\n",
       "      <td>1</td>\n",
       "      <td>15854</td>\n",
       "    </tr>\n",
       "    <tr>\n",
       "      <th>8</th>\n",
       "      <td>1000004</td>\n",
       "      <td>P0097242</td>\n",
       "      <td>M</td>\n",
       "      <td>46-50</td>\n",
       "      <td>7</td>\n",
       "      <td>B</td>\n",
       "      <td>2</td>\n",
       "      <td>1</td>\n",
       "      <td>1</td>\n",
       "      <td>15686</td>\n",
       "    </tr>\n",
       "    <tr>\n",
       "      <th>...</th>\n",
       "      <td>...</td>\n",
       "      <td>...</td>\n",
       "      <td>...</td>\n",
       "      <td>...</td>\n",
       "      <td>...</td>\n",
       "      <td>...</td>\n",
       "      <td>...</td>\n",
       "      <td>...</td>\n",
       "      <td>...</td>\n",
       "      <td>...</td>\n",
       "    </tr>\n",
       "    <tr>\n",
       "      <th>537572</th>\n",
       "      <td>1004737</td>\n",
       "      <td>P00193542</td>\n",
       "      <td>M</td>\n",
       "      <td>36-45</td>\n",
       "      <td>16</td>\n",
       "      <td>C</td>\n",
       "      <td>1</td>\n",
       "      <td>0</td>\n",
       "      <td>1</td>\n",
       "      <td>11664</td>\n",
       "    </tr>\n",
       "    <tr>\n",
       "      <th>537573</th>\n",
       "      <td>1004737</td>\n",
       "      <td>P00111142</td>\n",
       "      <td>M</td>\n",
       "      <td>36-45</td>\n",
       "      <td>16</td>\n",
       "      <td>C</td>\n",
       "      <td>1</td>\n",
       "      <td>0</td>\n",
       "      <td>1</td>\n",
       "      <td>19196</td>\n",
       "    </tr>\n",
       "    <tr>\n",
       "      <th>537574</th>\n",
       "      <td>1004737</td>\n",
       "      <td>P00345942</td>\n",
       "      <td>M</td>\n",
       "      <td>36-45</td>\n",
       "      <td>16</td>\n",
       "      <td>C</td>\n",
       "      <td>1</td>\n",
       "      <td>0</td>\n",
       "      <td>8</td>\n",
       "      <td>8043</td>\n",
       "    </tr>\n",
       "    <tr>\n",
       "      <th>537575</th>\n",
       "      <td>1004737</td>\n",
       "      <td>P00285842</td>\n",
       "      <td>M</td>\n",
       "      <td>36-45</td>\n",
       "      <td>16</td>\n",
       "      <td>C</td>\n",
       "      <td>1</td>\n",
       "      <td>0</td>\n",
       "      <td>5</td>\n",
       "      <td>7172</td>\n",
       "    </tr>\n",
       "    <tr>\n",
       "      <th>537576</th>\n",
       "      <td>1004737</td>\n",
       "      <td>P00118242</td>\n",
       "      <td>M</td>\n",
       "      <td>36-45</td>\n",
       "      <td>16</td>\n",
       "      <td>C</td>\n",
       "      <td>1</td>\n",
       "      <td>0</td>\n",
       "      <td>5</td>\n",
       "      <td>6875</td>\n",
       "    </tr>\n",
       "  </tbody>\n",
       "</table>\n",
       "<p>405380 rows × 10 columns</p>\n",
       "</div>"
      ],
      "text/plain": [
       "        User_ID Product_ID Gender    Age  Occupation City_Category  \\\n",
       "4       1000002  P00285442      M    55+          16             C   \n",
       "5       1000003  P00193542      M  26-35          15             A   \n",
       "6       1000004  P00184942      M  46-50           7             B   \n",
       "7       1000004  P00346142      M  46-50           7             B   \n",
       "8       1000004   P0097242      M  46-50           7             B   \n",
       "...         ...        ...    ...    ...         ...           ...   \n",
       "537572  1004737  P00193542      M  36-45          16             C   \n",
       "537573  1004737  P00111142      M  36-45          16             C   \n",
       "537574  1004737  P00345942      M  36-45          16             C   \n",
       "537575  1004737  P00285842      M  36-45          16             C   \n",
       "537576  1004737  P00118242      M  36-45          16             C   \n",
       "\n",
       "       Stay_In_Current_City_Years  Marital_Status  Product_Category_1  \\\n",
       "4                              4+               0                   8   \n",
       "5                               3               0                   1   \n",
       "6                               2               1                   1   \n",
       "7                               2               1                   1   \n",
       "8                               2               1                   1   \n",
       "...                           ...             ...                 ...   \n",
       "537572                          1               0                   1   \n",
       "537573                          1               0                   1   \n",
       "537574                          1               0                   8   \n",
       "537575                          1               0                   5   \n",
       "537576                          1               0                   5   \n",
       "\n",
       "        Purchase  \n",
       "4           7969  \n",
       "5          15227  \n",
       "6          19215  \n",
       "7          15854  \n",
       "8          15686  \n",
       "...          ...  \n",
       "537572     11664  \n",
       "537573     19196  \n",
       "537574      8043  \n",
       "537575      7172  \n",
       "537576      6875  \n",
       "\n",
       "[405380 rows x 10 columns]"
      ]
     },
     "execution_count": 5,
     "metadata": {},
     "output_type": "execute_result"
    }
   ],
   "source": [
    "#Only shows only rows whose gender is Male\n",
    "df[df['Gender']=='M']"
   ]
  },
  {
   "cell_type": "code",
   "execution_count": 6,
   "id": "a8dcb9f2-4ef9-46f5-8b0d-c668f3a17746",
   "metadata": {},
   "outputs": [
    {
     "data": {
      "text/plain": [
       "(405380, 132197)"
      ]
     },
     "execution_count": 6,
     "metadata": {},
     "output_type": "execute_result"
    }
   ],
   "source": [
    "len(df[df['Gender']=='M']),len(df[df['Gender']=='F'])"
   ]
  },
  {
   "cell_type": "code",
   "execution_count": 7,
   "id": "e2a4b143-1042-4688-a93b-db6c7dff953f",
   "metadata": {},
   "outputs": [
    {
     "data": {
      "text/html": [
       "<div>\n",
       "<style scoped>\n",
       "    .dataframe tbody tr th:only-of-type {\n",
       "        vertical-align: middle;\n",
       "    }\n",
       "\n",
       "    .dataframe tbody tr th {\n",
       "        vertical-align: top;\n",
       "    }\n",
       "\n",
       "    .dataframe thead th {\n",
       "        text-align: right;\n",
       "    }\n",
       "</style>\n",
       "<table border=\"1\" class=\"dataframe\">\n",
       "  <thead>\n",
       "    <tr style=\"text-align: right;\">\n",
       "      <th></th>\n",
       "      <th>Ratio</th>\n",
       "    </tr>\n",
       "  </thead>\n",
       "  <tbody>\n",
       "    <tr>\n",
       "      <th>Male</th>\n",
       "      <td>405380</td>\n",
       "    </tr>\n",
       "    <tr>\n",
       "      <th>Female</th>\n",
       "      <td>132197</td>\n",
       "    </tr>\n",
       "  </tbody>\n",
       "</table>\n",
       "</div>"
      ],
      "text/plain": [
       "         Ratio\n",
       "Male    405380\n",
       "Female  132197"
      ]
     },
     "execution_count": 7,
     "metadata": {},
     "output_type": "execute_result"
    }
   ],
   "source": [
    "data=pd.DataFrame({'Ratio':[len(df[df['Gender']=='M']),len(df[df['Gender']=='F'])]}, index=['Male','Female'])\n",
    "data"
   ]
  },
  {
   "cell_type": "code",
   "execution_count": 8,
   "id": "a1a3a805-741a-42c3-937c-a895dab1c62f",
   "metadata": {},
   "outputs": [
    {
     "data": {
      "text/plain": [
       "Gender\n",
       "F    132197\n",
       "M    405380\n",
       "dtype: int64"
      ]
     },
     "execution_count": 8,
     "metadata": {},
     "output_type": "execute_result"
    }
   ],
   "source": [
    "df.groupby('Gender').size()"
   ]
  },
  {
   "cell_type": "code",
   "execution_count": 9,
   "id": "e2840b9d-bf9e-49e1-9576-6f565d3fa140",
   "metadata": {},
   "outputs": [
    {
     "data": {
      "text/plain": [
       "<Axes: title={'center': 'Gender Ratio'}>"
      ]
     },
     "execution_count": 9,
     "metadata": {},
     "output_type": "execute_result"
    },
    {
     "data": {
      "image/png": "[encoded data removed]",
      "text/plain": [
       "<Figure size 640x480 with 1 Axes>"
      ]
     },
     "metadata": {},
     "output_type": "display_data"
    }
   ],
   "source": [
    "df.groupby('Gender').size().plot(kind='pie',autopct='%.1f',title='Gender Ratio')"
   ]
  },
  {
   "cell_type": "code",
   "execution_count": 10,
   "id": "f7baafcf-b7e3-40cc-90d0-f5c24c6e8ea6",
   "metadata": {},
   "outputs": [
    {
     "data": {
      "text/plain": [
       "<Axes: title={'center': 'Gender Ratio'}, xlabel='Gender'>"
      ]
     },
     "execution_count": 10,
     "metadata": {},
     "output_type": "execute_result"
    },
    {
     "data": {
      "image/png": "[encoded data removed]",
      "text/plain": [
       "<Figure size 700x500 with 1 Axes>"
      ]
     },
     "metadata": {},
     "output_type": "display_data"
    }
   ],
   "source": [
    "df.groupby('Gender').size().plot(kind='bar',title='Gender Ratio',figsize=(7,5))"
   ]
  },
  {
   "cell_type": "code",
   "execution_count": null,
   "id": "b83ff429-b59e-4bed-994d-81c21a8cde54",
   "metadata": {},
   "outputs": [],
   "source": [
    "\n",
    "import matplotlib.pyplot as plt\n",
    "\n",
    "\n",
    "# Plot the sum of purchases by gender as a pie chart\n",
    "df.groupby('Gender').sum()['Purchase'].plot(kind='pie', autopct=\"%0.1f\", figsize=(6,6))\n",
    "plt.ylabel('')  # Remove y-axis label for clarity\n",
    "plt.title('Total Purchase Amount by Gender')\n",
    "plt.show()\n"
   ]
  },
  {
   "cell_type": "code",
   "execution_count": null,
   "id": "e2896e6d-9a37-4771-b88a-275c4932f712",
   "metadata": {},
   "outputs": [],
   "source": []
  }
 ],
 "metadata": {
  "kernelspec": {
   "display_name": "Python 3 (ipykernel)",
   "language": "python",
   "name": "python3"
  },
  "language_info": {
   "codemirror_mode": {
    "name": "ipython",
    "version": 3
   },
   "file_extension": ".py",
   "mimetype": "text/x-python",
   "name": "python",
   "nbconvert_exporter": "python",
   "pygments_lexer": "ipython3",
   "version": "3.11.7"
  }
 },
 "nbformat": 4,
 "nbformat_minor": 5
}
